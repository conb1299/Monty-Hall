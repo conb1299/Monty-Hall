{
 "cells": [
  {
   "cell_type": "code",
   "execution_count": null,
   "metadata": {
    "collapsed": true
   },
   "outputs": [],
   "source": [
    "# You should always switch the door if given the opportunity. The question revolves around the fact that the host knows\n",
    "# what is behind each door. When you iniitially pick a door your chance of getting correct prize is obviously 1/3.\n",
    "# HOWEVER, since host will ALWAYS open a dud door next it is important to reconsider your choices. \n",
    "# Given these factors (Bayes Rule) essentially Monty is letting you choose two doors instead of 1 at the initial stage of the process.\n",
    "# This will give you 2/3 odds to get the cf"
   ]
  }
 ],
 "metadata": {
  "kernelspec": {
   "display_name": "Python 3",
   "language": "python",
   "name": "python3"
  },
  "language_info": {
   "codemirror_mode": {
    "name": "ipython",
    "version": 3
   },
   "file_extension": ".py",
   "mimetype": "text/x-python",
   "name": "python",
   "nbconvert_exporter": "python",
   "pygments_lexer": "ipython3",
   "version": "3.6.1"
  }
 },
 "nbformat": 4,
 "nbformat_minor": 2
}
